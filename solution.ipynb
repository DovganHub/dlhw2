{
 "cells": [
  {
   "cell_type": "code",
   "execution_count": 1,
   "metadata": {},
   "outputs": [
    {
     "name": "stderr",
     "output_type": "stream",
     "text": [
      "/home/al_dovgan/yandex_neural/projects/sprint2_hw/.venv/lib/python3.12/site-packages/tqdm/auto.py:21: TqdmWarning: IProgress not found. Please update jupyter and ipywidgets. See https://ipywidgets.readthedocs.io/en/stable/user_install.html\n",
      "  from .autonotebook import tqdm as notebook_tqdm\n"
     ]
    }
   ],
   "source": [
    "import pandas as pd\n",
    "from torch import nn\n",
    "from torch.utils.data import Dataset, DataLoader\n",
    "from sklearn.model_selection import train_test_split\n",
    "from transformers import BertTokenizerFast, pipeline\n",
    "import matplotlib.pyplot as plt\n",
    "import torch.optim as optim\n",
    "from src.data_utils import clean_string, NextTokenDataset, RougeEvaluationDataset\n",
    "from src.lstm_model import LSTMForNextTokenPrediction\n",
    "from src.lstm_train import train_model_simple, plot_training_history\n",
    "from src.eval_transformer_pipeline import calculate_rouge_transformer\n",
    "from src.eval_lstm import calculate_rouge_simple\n",
    "from transformers import PreTrainedTokenizerFast\n"
   ]
  },
  {
   "cell_type": "markdown",
   "metadata": {},
   "source": [
    "# load & preprocess"
   ]
  },
  {
   "cell_type": "code",
   "execution_count": 2,
   "metadata": {},
   "outputs": [],
   "source": [
    "with open('./data/raw_dataset.csv', 'r', encoding='utf-8') as f:\n",
    "    data = pd.DataFrame([line.rstrip('\\n') for line in f], columns=['text'])"
   ]
  },
  {
   "cell_type": "code",
   "execution_count": 3,
   "metadata": {},
   "outputs": [],
   "source": [
    "data['text'] = data['text'].apply(clean_string)\n",
    "data = data.drop_duplicates('text')"
   ]
  },
  {
   "cell_type": "markdown",
   "metadata": {},
   "source": [
    "# create dataset"
   ]
  },
  {
   "cell_type": "code",
   "execution_count": 4,
   "metadata": {},
   "outputs": [
    {
     "name": "stdout",
     "output_type": "stream",
     "text": [
      "Train texts: 1254601, Val texts: 156825\n"
     ]
    }
   ],
   "source": [
    "val_size, seq_len = 0.2, 7\n",
    "train_texts, val_texts = train_test_split(data['text'].iloc[:], test_size=val_size, random_state=42)\n",
    "val_texts, test_texts = train_test_split(val_texts, test_size=0.5, random_state=42)\n",
    "\n",
    "print(f\"Train texts: {len(train_texts)}, Val texts: {len(val_texts)}\")\n"
   ]
  },
  {
   "cell_type": "code",
   "execution_count": 5,
   "metadata": {},
   "outputs": [
    {
     "name": "stderr",
     "output_type": "stream",
     "text": [
      "Preprocessing dataset: 100%|\u001b[32m██████████\u001b[0m| 1254601/1254601 [01:01<00:00, 20307.40it/s]\n",
      "Preprocessing dataset: 100%|\u001b[32m██████████\u001b[0m| 156825/156825 [00:08<00:00, 17628.18it/s]\n"
     ]
    }
   ],
   "source": [
    "# tokenizer = BertTokenizerFast.from_pretrained(\"bert-base-uncased\")\n",
    "tokenizer = PreTrainedTokenizerFast(\n",
    "    tokenizer_file=\"./custom_bpe_tokenizer.json\"\n",
    ")\n",
    "train_dataset = NextTokenDataset(train_texts, tokenizer, seq_len)\n",
    "val_dataset = NextTokenDataset(val_texts, tokenizer, seq_len)\n",
    "rouge_dataset = RougeEvaluationDataset(val_texts[:100], tokenizer)  # Только 100 для оценки"
   ]
  },
  {
   "cell_type": "code",
   "execution_count": 6,
   "metadata": {},
   "outputs": [],
   "source": [
    "train_loader = DataLoader(train_dataset, batch_size=256, shuffle=True) #23584\n",
    "val_loader = DataLoader(val_dataset, batch_size=256) #23584\n",
    "rouge_loader = DataLoader(rouge_dataset, batch_size=1, shuffle=False)\n"
   ]
  },
  {
   "cell_type": "markdown",
   "metadata": {},
   "source": [
    "# lstm train"
   ]
  },
  {
   "cell_type": "code",
   "execution_count": 7,
   "metadata": {},
   "outputs": [
    {
     "data": {
      "text/plain": [
       "8000"
      ]
     },
     "execution_count": 7,
     "metadata": {},
     "output_type": "execute_result"
    }
   ],
   "source": [
    "train_dataset.__vocab_size__()"
   ]
  },
  {
   "cell_type": "code",
   "execution_count": 8,
   "metadata": {},
   "outputs": [],
   "source": [
    "vocab_size = train_dataset.__vocab_size__()"
   ]
  },
  {
   "cell_type": "code",
   "execution_count": 9,
   "metadata": {},
   "outputs": [
    {
     "name": "stderr",
     "output_type": "stream",
     "text": [
      "/home/al_dovgan/yandex_neural/projects/sprint2_hw/.venv/lib/python3.12/site-packages/torch/nn/modules/rnn.py:123: UserWarning: dropout option adds dropout after all but last recurrent layer, so non-zero dropout expects num_layers greater than 1, but got dropout=0.2 and num_layers=1\n",
      "  warnings.warn(\n"
     ]
    },
    {
     "name": "stdout",
     "output_type": "stream",
     "text": [
      "Using device: cuda\n"
     ]
    },
    {
     "name": "stderr",
     "output_type": "stream",
     "text": [
      "Epoch 1/10 [Train]: 100%|██████████| 504/504 [02:13<00:00,  3.77it/s, Loss=5.8992]\n"
     ]
    },
    {
     "name": "stdout",
     "output_type": "stream",
     "text": [
      "\n",
      "Epoch 1 - Оценка ROUGE...\n",
      "\n",
      "================================================================================\n",
      "ПРИМЕРЫ АВТОДОПОЛНЕНИЙ:\n",
      "================================================================================\n",
      "\n",
      "--- Пример 1 ---\n",
      "Вход (3/4 текста): i am a geek im cat alo gu ing my books and scan ning them by...\n",
      "Сгенерировано: i am a geek im cat alo gu ing my books and scan ning them by of our phone are having a good week so badly and i will be there so\n",
      "Цель (1/4 текста): bar code into the pu ter\n",
      "\n",
      "--- Пример 2 ---\n",
      "Вход (3/4 текста): godd amn that was fun now headin to dom s to bbq and chill out after pick in up some g rub at a amp js up...\n",
      "Сгенерировано: godd amn that was fun now headin to dom s to bbq and chill out after pick in up some g rub at a amp js up and my first time are you feel sorry for a show in the\n",
      "Цель (1/4 текста): amp blue la bel gonna be a great day\n",
      "\n",
      "--- Пример 3 ---\n",
      "Вход (3/4 текста): mary nu ke lover i woke up too early im gonna go back to sleep for an hour or two ill talk to ya later...\n",
      "Сгенерировано: mary nu ke lover i woke up too early im gonna go back to sleep for an hour or two ill talk to ya later for her back my birthday is going to read it on the worst time the\n",
      "Цель (1/4 текста): nu kes moo ches and o ll ian hugs\n",
      "\n",
      "Epoch 1/10 Результаты:\n",
      "  Train Loss: 6.3452, Val Loss: 5.9429\n",
      "  ROUGE1: 0.0775\n",
      "  ROUGE2: 0.0036\n",
      "  ROUGEL: 0.0657\n",
      "  ROUGELSUM: 0.0660\n",
      "  ✅ Модель сохранена!\n"
     ]
    },
    {
     "name": "stderr",
     "output_type": "stream",
     "text": [
      "Epoch 2/10 [Train]: 100%|██████████| 504/504 [02:16<00:00,  3.70it/s, Loss=5.7397]\n"
     ]
    },
    {
     "name": "stdout",
     "output_type": "stream",
     "text": [
      "\n",
      "Epoch 2 - Оценка ROUGE...\n",
      "\n",
      "================================================================================\n",
      "ПРИМЕРЫ АВТОДОПОЛНЕНИЙ:\n",
      "================================================================================\n",
      "\n",
      "--- Пример 1 ---\n",
      "Вход (3/4 текста): i am a geek im cat alo gu ing my books and scan ning them by...\n",
      "Сгенерировано: i am a geek im cat alo gu ing my books and scan ning them by an hour or something about it this morning last night i did have to keep on\n",
      "Цель (1/4 текста): bar code into the pu ter\n",
      "\n",
      "--- Пример 2 ---\n",
      "Вход (3/4 текста): godd amn that was fun now headin to dom s to bbq and chill out after pick in up some g rub at a amp js up...\n",
      "Сгенерировано: godd amn that was fun now headin to dom s to bbq and chill out after pick in up some g rub at a amp js up im tired but i must do so many more people just made it\n",
      "Цель (1/4 текста): amp blue la bel gonna be a great day\n",
      "\n",
      "--- Пример 3 ---\n",
      "Вход (3/4 текста): mary nu ke lover i woke up too early im gonna go back to sleep for an hour or two ill talk to ya later...\n",
      "Сгенерировано: mary nu ke lover i woke up too early im gonna go back to sleep for an hour or two ill talk to ya later not feeling horrible than the best friend i will try to get some sleep in\n",
      "Цель (1/4 текста): nu kes moo ches and o ll ian hugs\n",
      "\n",
      "Epoch 2/10 Результаты:\n",
      "  Train Loss: 5.8180, Val Loss: 5.7453\n",
      "  ROUGE1: 0.0703\n",
      "  ROUGE2: 0.0019\n",
      "  ROUGEL: 0.0608\n",
      "  ROUGELSUM: 0.0608\n"
     ]
    },
    {
     "name": "stderr",
     "output_type": "stream",
     "text": [
      "Epoch 3/10 [Train]: 100%|██████████| 504/504 [02:16<00:00,  3.69it/s, Loss=5.6340]\n"
     ]
    },
    {
     "name": "stdout",
     "output_type": "stream",
     "text": [
      "\n",
      "Epoch 3 - Оценка ROUGE...\n",
      "\n",
      "================================================================================\n",
      "ПРИМЕРЫ АВТОДОПОЛНЕНИЙ:\n",
      "================================================================================\n",
      "\n",
      "--- Пример 1 ---\n",
      "Вход (3/4 текста): i am a geek im cat alo gu ing my books and scan ning them by...\n",
      "Сгенерировано: i am a geek im cat alo gu ing my books and scan ning them by a little bit of the time in the middle of my phone and the best friends\n",
      "Цель (1/4 текста): bar code into the pu ter\n",
      "\n",
      "--- Пример 2 ---\n",
      "Вход (3/4 текста): godd amn that was fun now headin to dom s to bbq and chill out after pick in up some g rub at a amp js up...\n",
      "Сгенерировано: godd amn that was fun now headin to dom s to bbq and chill out after pick in up some g rub at a amp js up my first person i cant go to bed now in your day of\n",
      "Цель (1/4 текста): amp blue la bel gonna be a great day\n",
      "\n",
      "--- Пример 3 ---\n",
      "Вход (3/4 текста): mary nu ke lover i woke up too early im gonna go back to sleep for an hour or two ill talk to ya later...\n",
      "Сгенерировано: mary nu ke lover i woke up too early im gonna go back to sleep for an hour or two ill talk to ya later and you have to be as well i can get it on the train and\n",
      "Цель (1/4 текста): nu kes moo ches and o ll ian hugs\n",
      "\n",
      "Epoch 3/10 Результаты:\n",
      "  Train Loss: 5.6803, Val Loss: 5.6609\n",
      "  ROUGE1: 0.0803\n",
      "  ROUGE2: 0.0040\n",
      "  ROUGEL: 0.0698\n",
      "  ROUGELSUM: 0.0704\n",
      "  ✅ Модель сохранена!\n"
     ]
    },
    {
     "name": "stderr",
     "output_type": "stream",
     "text": [
      "Epoch 4/10 [Train]: 100%|██████████| 504/504 [02:19<00:00,  3.62it/s, Loss=5.5992]\n"
     ]
    },
    {
     "name": "stdout",
     "output_type": "stream",
     "text": [
      "\n",
      "Epoch 4 - Оценка ROUGE...\n",
      "\n",
      "================================================================================\n",
      "ПРИМЕРЫ АВТОДОПОЛНЕНИЙ:\n",
      "================================================================================\n",
      "\n",
      "--- Пример 1 ---\n",
      "Вход (3/4 текста): i am a geek im cat alo gu ing my books and scan ning them by...\n",
      "Сгенерировано: i am a geek im cat alo gu ing my books and scan ning them by me at the park and i feel like the first time on the way well let\n",
      "Цель (1/4 текста): bar code into the pu ter\n",
      "\n",
      "--- Пример 2 ---\n",
      "Вход (3/4 текста): godd amn that was fun now headin to dom s to bbq and chill out after pick in up some g rub at a amp js up...\n",
      "Сгенерировано: godd amn that was fun now headin to dom s to bbq and chill out after pick in up some g rub at a amp js up the sun bathing suit to make me i think i cant complain it\n",
      "Цель (1/4 текста): amp blue la bel gonna be a great day\n",
      "\n",
      "--- Пример 3 ---\n",
      "Вход (3/4 текста): mary nu ke lover i woke up too early im gonna go back to sleep for an hour or two ill talk to ya later...\n",
      "Сгенерировано: mary nu ke lover i woke up too early im gonna go back to sleep for an hour or two ill talk to ya later and i cant get an bed yet and i forgot my dad for it but\n",
      "Цель (1/4 текста): nu kes moo ches and o ll ian hugs\n",
      "\n",
      "Epoch 4/10 Результаты:\n",
      "  Train Loss: 5.6084, Val Loss: 5.6124\n",
      "  ROUGE1: 0.0832\n",
      "  ROUGE2: 0.0041\n",
      "  ROUGEL: 0.0702\n",
      "  ROUGELSUM: 0.0701\n",
      "  ✅ Модель сохранена!\n"
     ]
    },
    {
     "name": "stderr",
     "output_type": "stream",
     "text": [
      "Epoch 5/10 [Train]: 100%|██████████| 504/504 [02:16<00:00,  3.70it/s, Loss=5.5281]\n"
     ]
    },
    {
     "name": "stdout",
     "output_type": "stream",
     "text": [
      "\n",
      "Epoch 5 - Оценка ROUGE...\n",
      "\n",
      "================================================================================\n",
      "ПРИМЕРЫ АВТОДОПОЛНЕНИЙ:\n",
      "================================================================================\n",
      "\n",
      "--- Пример 1 ---\n",
      "Вход (3/4 текста): i am a geek im cat alo gu ing my books and scan ning them by...\n",
      "Сгенерировано: i am a geek im cat alo gu ing my books and scan ning them by myself and in my house and i still have a great time of them on my\n",
      "Цель (1/4 текста): bar code into the pu ter\n",
      "\n",
      "--- Пример 2 ---\n",
      "Вход (3/4 текста): godd amn that was fun now headin to dom s to bbq and chill out after pick in up some g rub at a amp js up...\n",
      "Сгенерировано: godd amn that was fun now headin to dom s to bbq and chill out after pick in up some g rub at a amp js up it is a huge fan of things at my birthday party at this\n",
      "Цель (1/4 текста): amp blue la bel gonna be a great day\n",
      "\n",
      "--- Пример 3 ---\n",
      "Вход (3/4 текста): mary nu ke lover i woke up too early im gonna go back to sleep for an hour or two ill talk to ya later...\n",
      "Сгенерировано: mary nu ke lover i woke up too early im gonna go back to sleep for an hour or two ill talk to ya later with a great time in some c ds like it just came back to work\n",
      "Цель (1/4 текста): nu kes moo ches and o ll ian hugs\n",
      "\n",
      "Epoch 5/10 Результаты:\n",
      "  Train Loss: 5.5636, Val Loss: 5.5809\n",
      "  ROUGE1: 0.0767\n",
      "  ROUGE2: 0.0019\n",
      "  ROUGEL: 0.0664\n",
      "  ROUGELSUM: 0.0660\n"
     ]
    },
    {
     "name": "stderr",
     "output_type": "stream",
     "text": [
      "Epoch 6/10 [Train]: 100%|██████████| 504/504 [02:16<00:00,  3.69it/s, Loss=5.5953]\n"
     ]
    },
    {
     "name": "stdout",
     "output_type": "stream",
     "text": [
      "\n",
      "Epoch 6 - Оценка ROUGE...\n",
      "\n",
      "================================================================================\n",
      "ПРИМЕРЫ АВТОДОПОЛНЕНИЙ:\n",
      "================================================================================\n",
      "\n",
      "--- Пример 1 ---\n",
      "Вход (3/4 текста): i am a geek im cat alo gu ing my books and scan ning them by...\n",
      "Сгенерировано: i am a geek im cat alo gu ing my books and scan ning them by your first day in july again next 2 weeks off to bed on their final test\n",
      "Цель (1/4 текста): bar code into the pu ter\n",
      "\n",
      "--- Пример 2 ---\n",
      "Вход (3/4 текста): godd amn that was fun now headin to dom s to bbq and chill out after pick in up some g rub at a amp js up...\n",
      "Сгенерировано: godd amn that was fun now headin to dom s to bbq and chill out after pick in up some g rub at a amp js up with my mom and he was in the middle of the summer ie\n",
      "Цель (1/4 текста): amp blue la bel gonna be a great day\n",
      "\n",
      "--- Пример 3 ---\n",
      "Вход (3/4 текста): mary nu ke lover i woke up too early im gonna go back to sleep for an hour or two ill talk to ya later...\n",
      "Сгенерировано: mary nu ke lover i woke up too early im gonna go back to sleep for an hour or two ill talk to ya later i miss it and im not much fun with him so much i dont really\n",
      "Цель (1/4 текста): nu kes moo ches and o ll ian hugs\n",
      "\n",
      "Epoch 6/10 Результаты:\n",
      "  Train Loss: 5.5324, Val Loss: 5.5589\n",
      "  ROUGE1: 0.0847\n",
      "  ROUGE2: 0.0019\n",
      "  ROUGEL: 0.0707\n",
      "  ROUGELSUM: 0.0713\n",
      "  ✅ Модель сохранена!\n"
     ]
    },
    {
     "name": "stderr",
     "output_type": "stream",
     "text": [
      "Epoch 7/10 [Train]: 100%|██████████| 504/504 [02:16<00:00,  3.69it/s, Loss=5.4950]\n"
     ]
    },
    {
     "name": "stdout",
     "output_type": "stream",
     "text": [
      "\n",
      "Epoch 7 - Оценка ROUGE...\n",
      "\n",
      "================================================================================\n",
      "ПРИМЕРЫ АВТОДОПОЛНЕНИЙ:\n",
      "================================================================================\n",
      "\n",
      "--- Пример 1 ---\n",
      "Вход (3/4 текста): i am a geek im cat alo gu ing my books and scan ning them by...\n",
      "Сгенерировано: i am a geek im cat alo gu ing my books and scan ning them by so i am going to the gym at the lake with the good weather i am\n",
      "Цель (1/4 текста): bar code into the pu ter\n",
      "\n",
      "--- Пример 2 ---\n",
      "Вход (3/4 текста): godd amn that was fun now headin to dom s to bbq and chill out after pick in up some g rub at a amp js up...\n",
      "Сгенерировано: godd amn that was fun now headin to dom s to bbq and chill out after pick in up some g rub at a amp js up on sunday amp then a lot of the best friends that u should\n",
      "Цель (1/4 текста): amp blue la bel gonna be a great day\n",
      "\n",
      "--- Пример 3 ---\n",
      "Вход (3/4 текста): mary nu ke lover i woke up too early im gonna go back to sleep for an hour or two ill talk to ya later...\n",
      "Сгенерировано: mary nu ke lover i woke up too early im gonna go back to sleep for an hour or two ill talk to ya later this weekend to my family of work on my last night i had my money\n",
      "Цель (1/4 текста): nu kes moo ches and o ll ian hugs\n",
      "\n",
      "Epoch 7/10 Результаты:\n",
      "  Train Loss: 5.5084, Val Loss: 5.5409\n",
      "  ROUGE1: 0.0776\n",
      "  ROUGE2: 0.0019\n",
      "  ROUGEL: 0.0665\n",
      "  ROUGELSUM: 0.0663\n"
     ]
    },
    {
     "name": "stderr",
     "output_type": "stream",
     "text": [
      "Epoch 8/10 [Train]: 100%|██████████| 504/504 [02:13<00:00,  3.78it/s, Loss=5.5794]\n"
     ]
    },
    {
     "name": "stdout",
     "output_type": "stream",
     "text": [
      "\n",
      "Epoch 8 - Оценка ROUGE...\n",
      "\n",
      "================================================================================\n",
      "ПРИМЕРЫ АВТОДОПОЛНЕНИЙ:\n",
      "================================================================================\n",
      "\n",
      "--- Пример 1 ---\n",
      "Вход (3/4 текста): i am a geek im cat alo gu ing my books and scan ning them by...\n",
      "Сгенерировано: i am a geek im cat alo gu ing my books and scan ning them by one of our beloved brothers concert tonight now im not talking about it the big city\n",
      "Цель (1/4 текста): bar code into the pu ter\n",
      "\n",
      "--- Пример 2 ---\n",
      "Вход (3/4 текста): godd amn that was fun now headin to dom s to bbq and chill out after pick in up some g rub at a amp js up...\n",
      "Сгенерировано: godd amn that was fun now headin to dom s to bbq and chill out after pick in up some g rub at a amp js up a new iphone before that a bit busy tomorrow i cant afford to\n",
      "Цель (1/4 текста): amp blue la bel gonna be a great day\n",
      "\n",
      "--- Пример 3 ---\n",
      "Вход (3/4 текста): mary nu ke lover i woke up too early im gonna go back to sleep for an hour or two ill talk to ya later...\n",
      "Сгенерировано: mary nu ke lover i woke up too early im gonna go back to sleep for an hour or two ill talk to ya later today though its pretty yummy too much when i get to sleep with my girls\n",
      "Цель (1/4 текста): nu kes moo ches and o ll ian hugs\n",
      "\n",
      "Epoch 8/10 Результаты:\n",
      "  Train Loss: 5.4898, Val Loss: 5.5277\n",
      "  ROUGE1: 0.0749\n",
      "  ROUGE2: 0.0019\n",
      "  ROUGEL: 0.0700\n",
      "  ROUGELSUM: 0.0697\n"
     ]
    },
    {
     "name": "stderr",
     "output_type": "stream",
     "text": [
      "Epoch 9/10 [Train]: 100%|██████████| 504/504 [02:16<00:00,  3.70it/s, Loss=5.5202]\n"
     ]
    },
    {
     "name": "stdout",
     "output_type": "stream",
     "text": [
      "\n",
      "Epoch 9 - Оценка ROUGE...\n",
      "\n",
      "================================================================================\n",
      "ПРИМЕРЫ АВТОДОПОЛНЕНИЙ:\n",
      "================================================================================\n",
      "\n",
      "--- Пример 1 ---\n",
      "Вход (3/4 текста): i am a geek im cat alo gu ing my books and scan ning them by...\n",
      "Сгенерировано: i am a geek im cat alo gu ing my books and scan ning them by tomorrow x x for my dad lol and i cant go to the beach in the\n",
      "Цель (1/4 текста): bar code into the pu ter\n",
      "\n",
      "--- Пример 2 ---\n",
      "Вход (3/4 текста): godd amn that was fun now headin to dom s to bbq and chill out after pick in up some g rub at a amp js up...\n",
      "Сгенерировано: godd amn that was fun now headin to dom s to bbq and chill out after pick in up some g rub at a amp js up in an hour amp ill try to come back to work amp i\n",
      "Цель (1/4 текста): amp blue la bel gonna be a great day\n",
      "\n",
      "--- Пример 3 ---\n",
      "Вход (3/4 текста): mary nu ke lover i woke up too early im gonna go back to sleep for an hour or two ill talk to ya later...\n",
      "Сгенерировано: mary nu ke lover i woke up too early im gonna go back to sleep for an hour or two ill talk to ya later i hope its not in bed i didnt get it to stay for a while\n",
      "Цель (1/4 текста): nu kes moo ches and o ll ian hugs\n",
      "\n",
      "Epoch 9/10 Результаты:\n",
      "  Train Loss: 5.4746, Val Loss: 5.5173\n",
      "  ROUGE1: 0.0778\n",
      "  ROUGE2: 0.0041\n",
      "  ROUGEL: 0.0674\n",
      "  ROUGELSUM: 0.0666\n"
     ]
    },
    {
     "name": "stderr",
     "output_type": "stream",
     "text": [
      "Epoch 10/10 [Train]: 100%|██████████| 504/504 [02:16<00:00,  3.68it/s, Loss=5.4559]\n"
     ]
    },
    {
     "name": "stdout",
     "output_type": "stream",
     "text": [
      "\n",
      "Epoch 10 - Оценка ROUGE...\n",
      "\n",
      "================================================================================\n",
      "ПРИМЕРЫ АВТОДОПОЛНЕНИЙ:\n",
      "================================================================================\n",
      "\n",
      "--- Пример 1 ---\n",
      "Вход (3/4 текста): i am a geek im cat alo gu ing my books and scan ning them by...\n",
      "Сгенерировано: i am a geek im cat alo gu ing my books and scan ning them by then not to go to work on our bus i miss this morning i miss my\n",
      "Цель (1/4 текста): bar code into the pu ter\n",
      "\n",
      "--- Пример 2 ---\n",
      "Вход (3/4 текста): godd amn that was fun now headin to dom s to bbq and chill out after pick in up some g rub at a amp js up...\n",
      "Сгенерировано: godd amn that was fun now headin to dom s to bbq and chill out after pick in up some g rub at a amp js up and i am on my head hurts so much better than my last\n",
      "Цель (1/4 текста): amp blue la bel gonna be a great day\n",
      "\n",
      "--- Пример 3 ---\n",
      "Вход (3/4 текста): mary nu ke lover i woke up too early im gonna go back to sleep for an hour or two ill talk to ya later...\n",
      "Сгенерировано: mary nu ke lover i woke up too early im gonna go back to sleep for an hour or two ill talk to ya later though just a tad good to see you guys again all day today and is\n",
      "Цель (1/4 текста): nu kes moo ches and o ll ian hugs\n",
      "\n",
      "Epoch 10/10 Результаты:\n",
      "  Train Loss: 5.4619, Val Loss: 5.5085\n",
      "  ROUGE1: 0.0787\n",
      "  ROUGE2: 0.0057\n",
      "  ROUGEL: 0.0661\n",
      "  ROUGELSUM: 0.0659\n"
     ]
    }
   ],
   "source": [
    "model = LSTMForNextTokenPrediction(vocab_size,\n",
    "                                    embedding_dim=64,\n",
    "                                    hidden_dim=64,\n",
    "                                    n_layers=1)\n",
    "\n",
    "trained_model, train_losses, rouge_history, val_losses = train_model_simple(\n",
    "    model=model,\n",
    "    train_loader=train_loader,\n",
    "    rouge_loader=rouge_loader,\n",
    "    val_loader=val_loader,\n",
    "    tokenizer=tokenizer,\n",
    "    epochs=10,\n",
    "    learning_rate=0.005\n",
    ")"
   ]
  },
  {
   "cell_type": "code",
   "execution_count": 15,
   "metadata": {},
   "outputs": [
    {
     "data": {
      "image/png": "[encoded data removed]",
      "text/plain": [
       "<Figure size 1500x500 with 2 Axes>"
      ]
     },
     "metadata": {},
     "output_type": "display_data"
    }
   ],
   "source": [
    "plot_training_history(train_losses, rouge_history, val_losses)"
   ]
  },
  {
   "cell_type": "markdown",
   "metadata": {},
   "source": [
    "# transformer"
   ]
  },
  {
   "cell_type": "code",
   "execution_count": 12,
   "metadata": {},
   "outputs": [
    {
     "name": "stderr",
     "output_type": "stream",
     "text": [
      "Device set to use cpu\n",
      "Truncation was not explicitly activated but `max_length` is provided a specific value, please use `truncation=True` to explicitly truncate examples to max length. Defaulting to 'longest_first' truncation strategy. If you encode pairs of sequences (GLUE-style) with the tokenizer you can select this strategy more precisely by providing a specific strategy to `truncation`.\n",
      "Setting `pad_token_id` to `eos_token_id`:50256 for open-end generation.\n",
      "Both `max_new_tokens` (=256) and `max_length`(=20) seem to have been set. `max_new_tokens` will take precedence. Please refer to the documentation for more information. (https://huggingface.co/docs/transformers/main/en/main_classes/text_generation)\n"
     ]
    },
    {
     "name": "stdout",
     "output_type": "stream",
     "text": [
      "Раз, два, три, четыре, пять, лька и три, челька и три, челька и три, челька и три, челька и три, челька и три, челька и три, челька и три, челька и три, челька и три, челька и три, челька и три, челька и три, челька и три, челька и три, челька и три, челька и три, чел\n"
     ]
    }
   ],
   "source": [
    "generator = pipeline(\n",
    "    \"text-generation\", \n",
    "    model=\"distilgpt2\",\n",
    "    device=-1  # Используем CPU\n",
    ")\n",
    "result = generator(\"Раз, два, три, четыре, пять, \", max_length=20, do_sample=True, top_k=50)\n",
    "print(result[0][\"generated_text\"])"
   ]
  },
  {
   "cell_type": "markdown",
   "metadata": {},
   "source": [
    "# evals"
   ]
  },
  {
   "cell_type": "markdown",
   "metadata": {},
   "source": [
    "TRANSFORMER"
   ]
  },
  {
   "cell_type": "code",
   "execution_count": 13,
   "metadata": {},
   "outputs": [
    {
     "name": "stdout",
     "output_type": "stream",
     "text": [
      "\n",
      "================================================================================\n",
      "ПРИМЕРЫ АВТОДОПОЛНЕНИЙ (distilgpt2):\n",
      "================================================================================\n",
      "\n",
      "--- Пример 1 ---\n",
      "Вход (3/4 текста): i am a geek im cat alo gu ing my books and scan ning them by...\n",
      "Сгенерировано: me.\n",
      "So this is the\n",
      "Цель (1/4 текста): bar code into the pu ter\n",
      "\n",
      "--- Пример 2 ---\n",
      "Вход (3/4 текста): godd amn that was fun now headin to dom s to bbq and chill out after pick in up some g rub at a amp js up...\n",
      "Сгенерировано: some oo oo I'll have to wait\n",
      "Цель (1/4 текста): amp blue la bel gonna be a great day\n",
      "\n",
      "--- Пример 3 ---\n",
      "Вход (3/4 текста): mary nu ke lover i woke up too early im gonna go back to sleep for an hour or two ill talk to ya later...\n",
      "Сгенерировано: im gonna have to go back to sleep for an\n",
      "Цель (1/4 текста): nu kes moo ches and o ll ian hugs\n"
     ]
    },
    {
     "data": {
      "text/plain": [
       "{'rouge1': np.float64(0.030440148087206912),\n",
       " 'rouge2': np.float64(0.0),\n",
       " 'rougeL': np.float64(0.031559029206088024),\n",
       " 'rougeLsum': np.float64(0.030440148087206905)}"
      ]
     },
     "execution_count": 13,
     "metadata": {},
     "output_type": "execute_result"
    }
   ],
   "source": [
    "calculate_rouge_transformer(generator=generator, rouge_loader=rouge_loader)"
   ]
  },
  {
   "cell_type": "markdown",
   "metadata": {},
   "source": [
    "LSTM"
   ]
  },
  {
   "cell_type": "code",
   "execution_count": 14,
   "metadata": {},
   "outputs": [
    {
     "name": "stdout",
     "output_type": "stream",
     "text": [
      "\n",
      "================================================================================\n",
      "ПРИМЕРЫ АВТОДОПОЛНЕНИЙ:\n",
      "================================================================================\n",
      "\n",
      "--- Пример 1 ---\n",
      "Вход (3/4 текста): i am a geek im cat alo gu ing my books and scan ning them by...\n",
      "Сгенерировано: i am a geek im cat alo gu ing my books and scan ning them by the time to play to go to the house i wish it was it in the\n",
      "Цель (1/4 текста): bar code into the pu ter\n",
      "\n",
      "--- Пример 2 ---\n",
      "Вход (3/4 текста): godd amn that was fun now headin to dom s to bbq and chill out after pick in up some g rub at a amp js up...\n",
      "Сгенерировано: godd amn that was fun now headin to dom s to bbq and chill out after pick in up some g rub at a amp js up stairs but not for a week when my brother is the best in\n",
      "Цель (1/4 текста): amp blue la bel gonna be a great day\n",
      "\n",
      "--- Пример 3 ---\n",
      "Вход (3/4 текста): mary nu ke lover i woke up too early im gonna go back to sleep for an hour or two ill talk to ya later...\n",
      "Сгенерировано: mary nu ke lover i woke up too early im gonna go back to sleep for an hour or two ill talk to ya later i miss them going to go to the house its a good thing i just\n",
      "Цель (1/4 текста): nu kes moo ches and o ll ian hugs\n"
     ]
    },
    {
     "data": {
      "text/plain": [
       "{'rouge1': np.float64(0.07314544605991927),\n",
       " 'rouge2': np.float64(0.0018604651162790697),\n",
       " 'rougeL': np.float64(0.06252296638992721),\n",
       " 'rougeLsum': np.float64(0.062395102450803305)}"
      ]
     },
     "execution_count": 14,
     "metadata": {},
     "output_type": "execute_result"
    }
   ],
   "source": [
    "calculate_rouge_simple(model, rouge_loader, tokenizer, 0)"
   ]
  },
  {
   "cell_type": "markdown",
   "metadata": {},
   "source": [
    "# Вывод"
   ]
  },
  {
   "cell_type": "markdown",
   "metadata": {},
   "source": [
    "Результаты показывают, что для нашей конкретной задачи автодополнения дообученная LSTM-модель демонстрирует более высокие метрики ROUGE по сравнению с недообученной трансформерной моделью distilgpt2. Это подчеркивает важность специализации моделей под конкретную предметную область, даже если используются более простые архитектуры."
   ]
  }
 ],
 "metadata": {
  "kernelspec": {
   "display_name": ".venv",
   "language": "python",
   "name": "python3"
  },
  "language_info": {
   "codemirror_mode": {
    "name": "ipython",
    "version": 3
   },
   "file_extension": ".py",
   "mimetype": "text/x-python",
   "name": "python",
   "nbconvert_exporter": "python",
   "pygments_lexer": "ipython3",
   "version": "3.12.7"
  }
 },
 "nbformat": 4,
 "nbformat_minor": 2
}
