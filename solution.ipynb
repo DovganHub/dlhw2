{
 "cells": [
  {
   "cell_type": "code",
   "execution_count": 19,
   "metadata": {},
   "outputs": [],
   "source": [
    "import pandas as pd\n",
    "from torch import nn\n",
    "from torch.utils.data import Dataset, DataLoader\n",
    "from sklearn.model_selection import train_test_split\n",
    "from transformers import BertTokenizerFast, pipeline\n",
    "import matplotlib.pyplot as plt\n",
    "import torch.optim as optim\n",
    "from src.data_utils import clean_string, NextTokenDataset, RougeEvaluationDataset\n",
    "from src.lstm_model import LSTMForNextTokenPrediction\n",
    "from src.lstm_train import train_model_simple, plot_training_history\n",
    "from src.eval_transformer_pipeline import calculate_rouge_transformer\n",
    "from src.eval_lstm import calculate_rouge_simple"
   ]
  },
  {
   "cell_type": "markdown",
   "metadata": {},
   "source": [
    "# load & preprocess"
   ]
  },
  {
   "cell_type": "code",
   "execution_count": 2,
   "metadata": {},
   "outputs": [],
   "source": [
    "with open('./data/raw_dataset.csv', 'r', encoding='utf-8') as f:\n",
    "    data = pd.DataFrame([line.rstrip('\\n') for line in f], columns=['text'])"
   ]
  },
  {
   "cell_type": "code",
   "execution_count": 3,
   "metadata": {},
   "outputs": [],
   "source": [
    "data['text'] = data['text'].apply(clean_string)\n",
    "data = data.drop_duplicates('text')"
   ]
  },
  {
   "cell_type": "markdown",
   "metadata": {},
   "source": [
    "# create dataset"
   ]
  },
  {
   "cell_type": "code",
   "execution_count": 4,
   "metadata": {},
   "outputs": [
    {
     "name": "stdout",
     "output_type": "stream",
     "text": [
      "Train texts: 1254601, Val texts: 156825\n"
     ]
    }
   ],
   "source": [
    "val_size, seq_len = 0.2, 7\n",
    "train_texts, val_texts = train_test_split(data['text'].iloc[:], test_size=val_size, random_state=42)\n",
    "val_texts, test_texts = train_test_split(val_texts, test_size=0.5, random_state=42)\n",
    "\n",
    "print(f\"Train texts: {len(train_texts)}, Val texts: {len(val_texts)}\")\n"
   ]
  },
  {
   "cell_type": "code",
   "execution_count": 5,
   "metadata": {},
   "outputs": [
    {
     "name": "stderr",
     "output_type": "stream",
     "text": [
      "Preprocessing dataset: 100%|\u001b[32m██████████\u001b[0m| 1254601/1254601 [01:26<00:00, 14506.52it/s]\n",
      "Preprocessing dataset: 100%|\u001b[32m██████████\u001b[0m| 156825/156825 [00:12<00:00, 12725.04it/s]\n"
     ]
    }
   ],
   "source": [
    "tokenizer = BertTokenizerFast.from_pretrained(\"bert-base-uncased\")\n",
    "train_dataset = NextTokenDataset(train_texts, tokenizer, seq_len)\n",
    "val_dataset = NextTokenDataset(val_texts, tokenizer, seq_len)\n",
    "rouge_dataset = RougeEvaluationDataset(val_texts[:100], tokenizer)  # Только 100 для оценки"
   ]
  },
  {
   "cell_type": "code",
   "execution_count": 6,
   "metadata": {},
   "outputs": [],
   "source": [
    "train_loader = DataLoader(train_dataset, batch_size=5992, shuffle=True)\n",
    "val_loader = DataLoader(val_dataset, batch_size=5992)\n",
    "rouge_loader = DataLoader(rouge_dataset, batch_size=1, shuffle=False)\n"
   ]
  },
  {
   "cell_type": "markdown",
   "metadata": {},
   "source": [
    "# lstm train"
   ]
  },
  {
   "cell_type": "code",
   "execution_count": 7,
   "metadata": {},
   "outputs": [
    {
     "data": {
      "text/plain": [
       "30522"
      ]
     },
     "execution_count": 7,
     "metadata": {},
     "output_type": "execute_result"
    }
   ],
   "source": [
    "train_dataset.__vocab_size__()"
   ]
  },
  {
   "cell_type": "code",
   "execution_count": 8,
   "metadata": {},
   "outputs": [],
   "source": [
    "vocab_size = train_dataset.__vocab_size__()"
   ]
  },
  {
   "cell_type": "code",
   "execution_count": 9,
   "metadata": {},
   "outputs": [
    {
     "name": "stdout",
     "output_type": "stream",
     "text": [
      "Using device: cuda\n"
     ]
    },
    {
     "name": "stderr",
     "output_type": "stream",
     "text": [
      "Epoch 1/7 [Train]: 100%|██████████| 2515/2515 [05:45<00:00,  7.28it/s, Loss=5.3246]\n"
     ]
    },
    {
     "name": "stdout",
     "output_type": "stream",
     "text": [
      "\n",
      "Epoch 1 - Оценка ROUGE...\n",
      "\n",
      "================================================================================\n",
      "ПРИМЕРЫ АВТОДОПОЛНЕНИЙ:\n",
      "================================================================================\n",
      "\n",
      "--- Пример 1 ---\n",
      "Вход (3/4 текста): i am a geek im cataloguing my books and scanning them by bar...\n",
      "Сгенерировано: i am a geek im cataloguing my books and scanning them by bar\n",
      "Цель (1/4 текста): ##code into the puter\n",
      "\n",
      "--- Пример 2 ---\n",
      "Вход (3/4 текста): goddamn that was fun now headin to doms to bbq and chill out after pickin up some grub at aampjs...\n",
      "Сгенерировано: goddamn that was fun now headin to doms to bbq and chill out after pickin up some grub at aampjs\n",
      "Цель (1/4 текста): up amp blue label gonnabe a great day\n",
      "\n",
      "--- Пример 3 ---\n",
      "Вход (3/4 текста): marynukelover i woke up too early im gonna go back to sleep for an hour or two ill talk to ya later nu...\n",
      "Сгенерировано: marynukelover i woke up too early im gonna go back to sleep for an hour or two ill talk to ya later nukin\n",
      "Цель (1/4 текста): ##kesmooches and ollian hugs\n",
      "\n",
      "Epoch 1/7 Результаты:\n",
      "  Train Loss: 6.2467\n",
      "  ROUGE1: 0.0586\n",
      "  ROUGE2: 0.0000\n",
      "  ROUGEL: 0.0535\n",
      "  ROUGELSUM: 0.0535\n",
      "  ✅ Модель сохранена!\n"
     ]
    },
    {
     "name": "stderr",
     "output_type": "stream",
     "text": [
      "Epoch 2/7 [Train]: 100%|██████████| 2515/2515 [05:47<00:00,  7.24it/s, Loss=5.2648]\n"
     ]
    },
    {
     "name": "stdout",
     "output_type": "stream",
     "text": [
      "\n",
      "Epoch 2 - Оценка ROUGE...\n",
      "\n",
      "================================================================================\n",
      "ПРИМЕРЫ АВТОДОПОЛНЕНИЙ:\n",
      "================================================================================\n",
      "\n",
      "--- Пример 1 ---\n",
      "Вход (3/4 текста): i am a geek im cataloguing my books and scanning them by bar...\n",
      "Сгенерировано: i am a geek im cataloguing my books and scanning them by bar\n",
      "Цель (1/4 текста): ##code into the puter\n",
      "\n",
      "--- Пример 2 ---\n",
      "Вход (3/4 текста): goddamn that was fun now headin to doms to bbq and chill out after pickin up some grub at aampjs...\n",
      "Сгенерировано: goddamn that was fun now headin to doms to bbq and chill out after pickin up some grub at aampjs\n",
      "Цель (1/4 текста): up amp blue label gonnabe a great day\n",
      "\n",
      "--- Пример 3 ---\n",
      "Вход (3/4 текста): marynukelover i woke up too early im gonna go back to sleep for an hour or two ill talk to ya later nu...\n",
      "Сгенерировано: marynukelover i woke up too early im gonna go back to sleep for an hour or two ill talk to ya later nuke\n",
      "Цель (1/4 текста): ##kesmooches and ollian hugs\n",
      "\n",
      "Epoch 2/7 Результаты:\n",
      "  Train Loss: 5.2612\n",
      "  ROUGE1: 0.0694\n",
      "  ROUGE2: 0.0000\n",
      "  ROUGEL: 0.0623\n",
      "  ROUGELSUM: 0.0622\n",
      "  ✅ Модель сохранена!\n"
     ]
    },
    {
     "name": "stderr",
     "output_type": "stream",
     "text": [
      "Epoch 3/7 [Train]: 100%|██████████| 2515/2515 [05:51<00:00,  7.16it/s, Loss=5.1016]\n"
     ]
    },
    {
     "name": "stdout",
     "output_type": "stream",
     "text": [
      "\n",
      "Epoch 3 - Оценка ROUGE...\n",
      "\n",
      "================================================================================\n",
      "ПРИМЕРЫ АВТОДОПОЛНЕНИЙ:\n",
      "================================================================================\n",
      "\n",
      "--- Пример 1 ---\n",
      "Вход (3/4 текста): i am a geek im cataloguing my books and scanning them by bar...\n",
      "Сгенерировано: i am a geek im cataloguing my books and scanning them by bar\n",
      "Цель (1/4 текста): ##code into the puter\n",
      "\n",
      "--- Пример 2 ---\n",
      "Вход (3/4 текста): goddamn that was fun now headin to doms to bbq and chill out after pickin up some grub at aampjs...\n",
      "Сгенерировано: goddamn that was fun now headin to doms to bbq and chill out after pickin up some grub at aampjs\n",
      "Цель (1/4 текста): up amp blue label gonnabe a great day\n",
      "\n",
      "--- Пример 3 ---\n",
      "Вход (3/4 текста): marynukelover i woke up too early im gonna go back to sleep for an hour or two ill talk to ya later nu...\n",
      "Сгенерировано: marynukelover i woke up too early im gonna go back to sleep for an hour or two ill talk to ya later nugging\n",
      "Цель (1/4 текста): ##kesmooches and ollian hugs\n",
      "\n",
      "Epoch 3/7 Результаты:\n",
      "  Train Loss: 5.1211\n",
      "  ROUGE1: 0.0689\n",
      "  ROUGE2: 0.0000\n",
      "  ROUGEL: 0.0637\n",
      "  ROUGELSUM: 0.0638\n"
     ]
    },
    {
     "name": "stderr",
     "output_type": "stream",
     "text": [
      "Epoch 4/7 [Train]: 100%|██████████| 2515/2515 [05:47<00:00,  7.23it/s, Loss=5.0085]\n"
     ]
    },
    {
     "name": "stdout",
     "output_type": "stream",
     "text": [
      "\n",
      "Epoch 4 - Оценка ROUGE...\n",
      "\n",
      "================================================================================\n",
      "ПРИМЕРЫ АВТОДОПОЛНЕНИЙ:\n",
      "================================================================================\n",
      "\n",
      "--- Пример 1 ---\n",
      "Вход (3/4 текста): i am a geek im cataloguing my books and scanning them by bar...\n",
      "Сгенерировано: i am a geek im cataloguing my books and scanning them by bar\n",
      "Цель (1/4 текста): ##code into the puter\n",
      "\n",
      "--- Пример 2 ---\n",
      "Вход (3/4 текста): goddamn that was fun now headin to doms to bbq and chill out after pickin up some grub at aampjs...\n",
      "Сгенерировано: goddamn that was fun now headin to doms to bbq and chill out after pickin up some grub at aampjs the new moon trailer\n",
      "Цель (1/4 текста): up amp blue label gonnabe a great day\n",
      "\n",
      "--- Пример 3 ---\n",
      "Вход (3/4 текста): marynukelover i woke up too early im gonna go back to sleep for an hour or two ill talk to ya later nu...\n",
      "Сгенерировано: marynukelover i woke up too early im gonna go back to sleep for an hour or two ill talk to ya later nuggggddddddd\n",
      "Цель (1/4 текста): ##kesmooches and ollian hugs\n",
      "\n",
      "Epoch 4/7 Результаты:\n",
      "  Train Loss: 5.0498\n",
      "  ROUGE1: 0.0659\n",
      "  ROUGE2: 0.0000\n",
      "  ROUGEL: 0.0630\n",
      "  ROUGELSUM: 0.0639\n"
     ]
    },
    {
     "name": "stderr",
     "output_type": "stream",
     "text": [
      "Epoch 5/7 [Train]: 100%|██████████| 2515/2515 [05:48<00:00,  7.23it/s, Loss=5.0291]\n"
     ]
    },
    {
     "name": "stdout",
     "output_type": "stream",
     "text": [
      "\n",
      "Epoch 5 - Оценка ROUGE...\n",
      "\n",
      "================================================================================\n",
      "ПРИМЕРЫ АВТОДОПОЛНЕНИЙ:\n",
      "================================================================================\n",
      "\n",
      "--- Пример 1 ---\n",
      "Вход (3/4 текста): i am a geek im cataloguing my books and scanning them by bar...\n",
      "Сгенерировано: i am a geek im cataloguing my books and scanning them by bar\n",
      "Цель (1/4 текста): ##code into the puter\n",
      "\n",
      "--- Пример 2 ---\n",
      "Вход (3/4 текста): goddamn that was fun now headin to doms to bbq and chill out after pickin up some grub at aampjs...\n",
      "Сгенерировано: goddamn that was fun now headin to doms to bbq and chill out after pickin up some grub at aampjs\n",
      "Цель (1/4 текста): up amp blue label gonnabe a great day\n",
      "\n",
      "--- Пример 3 ---\n",
      "Вход (3/4 текста): marynukelover i woke up too early im gonna go back to sleep for an hour or two ill talk to ya later nu...\n",
      "Сгенерировано: marynukelover i woke up too early im gonna go back to sleep for an hour or two ill talk to ya later nugs im glad i have yet to get ready to make a night\n",
      "Цель (1/4 текста): ##kesmooches and ollian hugs\n",
      "\n",
      "Epoch 5/7 Результаты:\n",
      "  Train Loss: 5.0040\n",
      "  ROUGE1: 0.0622\n",
      "  ROUGE2: 0.0000\n",
      "  ROUGEL: 0.0557\n",
      "  ROUGELSUM: 0.0553\n"
     ]
    },
    {
     "name": "stderr",
     "output_type": "stream",
     "text": [
      "Epoch 6/7 [Train]: 100%|██████████| 2515/2515 [06:05<00:00,  6.89it/s, Loss=4.9767]\n"
     ]
    },
    {
     "name": "stdout",
     "output_type": "stream",
     "text": [
      "\n",
      "Epoch 6 - Оценка ROUGE...\n",
      "\n",
      "================================================================================\n",
      "ПРИМЕРЫ АВТОДОПОЛНЕНИЙ:\n",
      "================================================================================\n",
      "\n",
      "--- Пример 1 ---\n",
      "Вход (3/4 текста): i am a geek im cataloguing my books and scanning them by bar...\n",
      "Сгенерировано: i am a geek im cataloguing my books and scanning them by barys with the big friends\n",
      "Цель (1/4 текста): ##code into the puter\n",
      "\n",
      "--- Пример 2 ---\n",
      "Вход (3/4 текста): goddamn that was fun now headin to doms to bbq and chill out after pickin up some grub at aampjs...\n",
      "Сгенерировано: goddamn that was fun now headin to doms to bbq and chill out after pickin up some grub at aampjs too but i have to go to work now\n",
      "Цель (1/4 текста): up amp blue label gonnabe a great day\n",
      "\n",
      "--- Пример 3 ---\n",
      "Вход (3/4 текста): marynukelover i woke up too early im gonna go back to sleep for an hour or two ill talk to ya later nu...\n",
      "Сгенерировано: marynukelover i woke up too early im gonna go back to sleep for an hour or two ill talk to ya later nuggay\n",
      "Цель (1/4 текста): ##kesmooches and ollian hugs\n",
      "\n",
      "Epoch 6/7 Результаты:\n",
      "  Train Loss: 4.9717\n",
      "  ROUGE1: 0.0651\n",
      "  ROUGE2: 0.0029\n",
      "  ROUGEL: 0.0572\n",
      "  ROUGELSUM: 0.0577\n"
     ]
    },
    {
     "name": "stderr",
     "output_type": "stream",
     "text": [
      "Epoch 7/7 [Train]: 100%|██████████| 2515/2515 [05:50<00:00,  7.18it/s, Loss=4.9311]\n"
     ]
    },
    {
     "name": "stdout",
     "output_type": "stream",
     "text": [
      "\n",
      "Epoch 7 - Оценка ROUGE...\n",
      "\n",
      "================================================================================\n",
      "ПРИМЕРЫ АВТОДОПОЛНЕНИЙ:\n",
      "================================================================================\n",
      "\n",
      "--- Пример 1 ---\n",
      "Вход (3/4 текста): i am a geek im cataloguing my books and scanning them by bar...\n",
      "Сгенерировано: i am a geek im cataloguing my books and scanning them by bar and it is all good\n",
      "Цель (1/4 текста): ##code into the puter\n",
      "\n",
      "--- Пример 2 ---\n",
      "Вход (3/4 текста): goddamn that was fun now headin to doms to bbq and chill out after pickin up some grub at aampjs...\n",
      "Сгенерировано: goddamn that was fun now headin to doms to bbq and chill out after pickin up some grub at aampjs i need sleep\n",
      "Цель (1/4 текста): up amp blue label gonnabe a great day\n",
      "\n",
      "--- Пример 3 ---\n",
      "Вход (3/4 текста): marynukelover i woke up too early im gonna go back to sleep for an hour or two ill talk to ya later nu...\n",
      "Сгенерировано: marynukelover i woke up too early im gonna go back to sleep for an hour or two ill talk to ya later nuggets go ahead\n",
      "Цель (1/4 текста): ##kesmooches and ollian hugs\n",
      "\n",
      "Epoch 7/7 Результаты:\n",
      "  Train Loss: 4.9475\n",
      "  ROUGE1: 0.0654\n",
      "  ROUGE2: 0.0000\n",
      "  ROUGEL: 0.0605\n",
      "  ROUGELSUM: 0.0603\n"
     ]
    }
   ],
   "source": [
    "model = LSTMForNextTokenPrediction(vocab_size,\n",
    "                                    embedding_dim=128,\n",
    "                                    hidden_dim=128,\n",
    "                                    n_layers=2)\n",
    "\n",
    "trained_model, train_losses, rouge_history = train_model_simple(\n",
    "    model=model,\n",
    "    train_loader=train_loader,\n",
    "    rouge_loader=rouge_loader,\n",
    "    tokenizer=tokenizer,\n",
    "    epochs=7,\n",
    "    learning_rate=0.005\n",
    ")"
   ]
  },
  {
   "cell_type": "code",
   "execution_count": 10,
   "metadata": {},
   "outputs": [
    {
     "data": {
      "image/png": "[encoded data removed]",
      "text/plain": [
       "<Figure size 1500x500 with 2 Axes>"
      ]
     },
     "metadata": {},
     "output_type": "display_data"
    }
   ],
   "source": [
    "plot_training_history(train_losses, rouge_history)"
   ]
  },
  {
   "cell_type": "markdown",
   "metadata": {},
   "source": [
    "# transformer"
   ]
  },
  {
   "cell_type": "code",
   "execution_count": 14,
   "metadata": {},
   "outputs": [
    {
     "name": "stderr",
     "output_type": "stream",
     "text": [
      "Device set to use cpu\n",
      "Truncation was not explicitly activated but `max_length` is provided a specific value, please use `truncation=True` to explicitly truncate examples to max length. Defaulting to 'longest_first' truncation strategy. If you encode pairs of sequences (GLUE-style) with the tokenizer you can select this strategy more precisely by providing a specific strategy to `truncation`.\n",
      "Setting `pad_token_id` to `eos_token_id`:50256 for open-end generation.\n",
      "Both `max_new_tokens` (=256) and `max_length`(=20) seem to have been set. `max_new_tokens` will take precedence. Please refer to the documentation for more information. (https://huggingface.co/docs/transformers/main/en/main_classes/text_generation)\n"
     ]
    },
    {
     "name": "stdout",
     "output_type": "stream",
     "text": [
      "Раз, два, три, четыре, пять, лькик, добяжерят исповереният онижих досстать вольшение.\n",
      "\n",
      "\n",
      "Саводесят совольшение гуз лиесеря полесеря.\n"
     ]
    }
   ],
   "source": [
    "generator = pipeline(\n",
    "    \"text-generation\", \n",
    "    model=\"distilgpt2\",\n",
    "    device=-1  # Используем CPU\n",
    ")\n",
    "result = generator(\"Раз, два, три, четыре, пять, \", max_length=20, do_sample=True, top_k=50)\n",
    "print(result[0][\"generated_text\"])"
   ]
  },
  {
   "cell_type": "markdown",
   "metadata": {},
   "source": [
    "# evals"
   ]
  },
  {
   "cell_type": "markdown",
   "metadata": {},
   "source": [
    "TRANSFORMER"
   ]
  },
  {
   "cell_type": "code",
   "execution_count": 17,
   "metadata": {},
   "outputs": [
    {
     "name": "stdout",
     "output_type": "stream",
     "text": [
      "\n",
      "================================================================================\n",
      "ПРИМЕРЫ АВТОДОПОЛНЕНИЙ (distilgpt2):\n",
      "================================================================================\n",
      "\n",
      "--- Пример 1 ---\n",
      "Вход (3/4 текста): i am a geek im cataloguing my books and scanning them by bar...\n",
      "Сгенерировано: ista and my art dealer\n",
      "Цель (1/4 текста): ##code into the puter\n",
      "\n",
      "--- Пример 2 ---\n",
      "Вход (3/4 текста): goddamn that was fun now headin to doms to bbq and chill out after pickin up some grub at aampjs...\n",
      "Сгенерировано: or be sure to give him some time to\n",
      "Цель (1/4 текста): up amp blue label gonnabe a great day\n",
      "\n",
      "--- Пример 3 ---\n",
      "Вход (3/4 текста): marynukelover i woke up too early im gonna go back to sleep for an hour or two ill talk to ya later nu...\n",
      "Сгенерировано: ya im gonna do that\n",
      "Цель (1/4 текста): ##kesmooches and ollian hugs\n"
     ]
    },
    {
     "data": {
      "text/plain": [
       "{'rouge1': np.float64(0.039516039516039506),\n",
       " 'rouge2': np.float64(0.0),\n",
       " 'rougeL': np.float64(0.03981906981906981),\n",
       " 'rougeLsum': np.float64(0.040041070041070034)}"
      ]
     },
     "execution_count": 17,
     "metadata": {},
     "output_type": "execute_result"
    }
   ],
   "source": [
    "calculate_rouge_transformer(generator=generator, rouge_loader=rouge_loader)"
   ]
  },
  {
   "cell_type": "markdown",
   "metadata": {},
   "source": [
    "LSTM"
   ]
  },
  {
   "cell_type": "code",
   "execution_count": 22,
   "metadata": {},
   "outputs": [
    {
     "name": "stdout",
     "output_type": "stream",
     "text": [
      "\n",
      "================================================================================\n",
      "ПРИМЕРЫ АВТОДОПОЛНЕНИЙ:\n",
      "================================================================================\n",
      "\n",
      "--- Пример 1 ---\n",
      "Вход (3/4 текста): i am a geek im cataloguing my books and scanning them by bar...\n",
      "Сгенерировано: i am a geek im cataloguing my books and scanning them by bar now im in need of my life\n",
      "Цель (1/4 текста): ##code into the puter\n",
      "\n",
      "--- Пример 2 ---\n",
      "Вход (3/4 текста): goddamn that was fun now headin to doms to bbq and chill out after pickin up some grub at aampjs...\n",
      "Сгенерировано: goddamn that was fun now headin to doms to bbq and chill out after pickin up some grub at aampjs\n",
      "Цель (1/4 текста): up amp blue label gonnabe a great day\n",
      "\n",
      "--- Пример 3 ---\n",
      "Вход (3/4 текста): marynukelover i woke up too early im gonna go back to sleep for an hour or two ill talk to ya later nu...\n",
      "Сгенерировано: marynukelover i woke up too early im gonna go back to sleep for an hour or two ill talk to ya later nuggie\n",
      "Цель (1/4 текста): ##kesmooches and ollian hugs\n"
     ]
    },
    {
     "data": {
      "text/plain": [
       "{'rouge1': np.float64(0.06527742099170669),\n",
       " 'rouge2': np.float64(0.004224270353302612),\n",
       " 'rougeL': np.float64(0.06058183138322511),\n",
       " 'rougeLsum': np.float64(0.06079847691345948)}"
      ]
     },
     "execution_count": 22,
     "metadata": {},
     "output_type": "execute_result"
    }
   ],
   "source": [
    "calculate_rouge_simple(model, rouge_loader, tokenizer, 0)"
   ]
  },
  {
   "cell_type": "markdown",
   "metadata": {},
   "source": [
    "# Вывод"
   ]
  },
  {
   "cell_type": "markdown",
   "metadata": {},
   "source": [
    "Результаты показывают, что для нашей конкретной задачи автодополнения дообученная LSTM-модель демонстрирует более высокие метрики ROUGE по сравнению с недообученной трансформерной моделью distilgpt2. Это подчеркивает важность специализации моделей под конкретную предметную область, даже если используются более простые архитектуры."
   ]
  }
 ],
 "metadata": {
  "kernelspec": {
   "display_name": ".venv",
   "language": "python",
   "name": "python3"
  },
  "language_info": {
   "codemirror_mode": {
    "name": "ipython",
    "version": 3
   },
   "file_extension": ".py",
   "mimetype": "text/x-python",
   "name": "python",
   "nbconvert_exporter": "python",
   "pygments_lexer": "ipython3",
   "version": "3.12.7"
  }
 },
 "nbformat": 4,
 "nbformat_minor": 2
}
